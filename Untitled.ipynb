{
 "cells": [
  {
   "cell_type": "code",
   "execution_count": 1,
   "metadata": {},
   "outputs": [],
   "source": [
    "def package_sale(page):\n",
    "    return 'https://streeteasy.com/for-sale/nyc' + page"
   ]
  },
  {
   "cell_type": "code",
   "execution_count": 2,
   "metadata": {},
   "outputs": [],
   "source": [
    "def package_rent(page):\n",
    "    return 'https://streeteasy.com/for-rent/nyc' + page"
   ]
  },
  {
   "cell_type": "code",
   "execution_count": 3,
   "metadata": {},
   "outputs": [],
   "source": [
    "import requests\n",
    "from bs4 import BeautifulSoup\n",
    "import bs4\n",
    "import pandas as pd\n",
    "import numpy as np\n",
    "import matplotlib.pyplot as plt\n",
    "import time\n",
    "import json\n",
    "import urllib\n",
    "from urllib.request import urlopen\n",
    "\n",
    "\n",
    "price = []\n",
    "where = []\n",
    "bed = []\n",
    "bath= []\n",
    "size = []\n",
    "monthly = []\n",
    "street = []\n",
    "kind = []"
   ]
  },
  {
   "cell_type": "code",
   "execution_count": 4,
   "metadata": {},
   "outputs": [
    {
     "ename": "AttributeError",
     "evalue": "module 'urllib' has no attribute 'urlopen'",
     "output_type": "error",
     "traceback": [
      "\u001b[0;31m---------------------------------------------------------------------------\u001b[0m",
      "\u001b[0;31mAttributeError\u001b[0m                            Traceback (most recent call last)",
      "\u001b[0;32m<ipython-input-4-9590b3b8866f>\u001b[0m in \u001b[0;36m<module>\u001b[0;34m\u001b[0m\n\u001b[1;32m      1\u001b[0m \u001b[0;32mfor\u001b[0m \u001b[0mx\u001b[0m \u001b[0;32min\u001b[0m \u001b[0mrange\u001b[0m\u001b[0;34m(\u001b[0m\u001b[0;36m1901\u001b[0m \u001b[0;34m,\u001b[0m\u001b[0;36m3421\u001b[0m\u001b[0;34m)\u001b[0m\u001b[0;34m:\u001b[0m \u001b[0;31m#loop all pages\u001b[0m\u001b[0;34m\u001b[0m\u001b[0;34m\u001b[0m\u001b[0m\n\u001b[1;32m      2\u001b[0m     \u001b[0murl\u001b[0m \u001b[0;34m=\u001b[0m \u001b[0mpackage_rent\u001b[0m\u001b[0;34m(\u001b[0m\u001b[0mstr\u001b[0m\u001b[0;34m(\u001b[0m\u001b[0mx\u001b[0m\u001b[0;34m)\u001b[0m\u001b[0;34m)\u001b[0m\u001b[0;34m\u001b[0m\u001b[0;34m\u001b[0m\u001b[0m\n\u001b[0;32m----> 3\u001b[0;31m     \u001b[0mr\u001b[0m \u001b[0;34m=\u001b[0m \u001b[0murllib\u001b[0m\u001b[0;34m.\u001b[0m\u001b[0murlopen\u001b[0m\u001b[0;34m(\u001b[0m\u001b[0murl\u001b[0m\u001b[0;34m)\u001b[0m\u001b[0;34m.\u001b[0m\u001b[0mread\u001b[0m\u001b[0;34m(\u001b[0m\u001b[0;34m)\u001b[0m\u001b[0;34m\u001b[0m\u001b[0;34m\u001b[0m\u001b[0m\n\u001b[0m\u001b[1;32m      4\u001b[0m     \u001b[0msoup\u001b[0m \u001b[0;34m=\u001b[0m \u001b[0mBeautifulSoup\u001b[0m\u001b[0;34m(\u001b[0m\u001b[0mr\u001b[0m\u001b[0;34m,\u001b[0m \u001b[0;34m'html.parser'\u001b[0m\u001b[0;34m)\u001b[0m\u001b[0;34m\u001b[0m\u001b[0;34m\u001b[0m\u001b[0m\n\u001b[1;32m      5\u001b[0m     \u001b[0mlst\u001b[0m \u001b[0;34m=\u001b[0m \u001b[0msoup\u001b[0m\u001b[0;34m.\u001b[0m\u001b[0mfind_all\u001b[0m\u001b[0;34m(\u001b[0m\u001b[0;32mlambda\u001b[0m \u001b[0mtag\u001b[0m\u001b[0;34m:\u001b[0m \u001b[0mtag\u001b[0m\u001b[0;34m.\u001b[0m\u001b[0mhas_attr\u001b[0m\u001b[0;34m(\u001b[0m\u001b[0;34m'div_id'\u001b[0m\u001b[0;34m)\u001b[0m\u001b[0;34m)\u001b[0m \u001b[0;31m# could be div id\u001b[0m\u001b[0;34m\u001b[0m\u001b[0;34m\u001b[0m\u001b[0m\n",
      "\u001b[0;31mAttributeError\u001b[0m: module 'urllib' has no attribute 'urlopen'"
     ]
    }
   ],
   "source": [
    "for x in range(1901 ,3421): #loop all pages\n",
    "    url = package_rent(str(x))\n",
    "    r = urllib.urlopen(url).read()\n",
    "    soup = BeautifulSoup(r, 'html.parser')\n",
    "    lst = soup.find_all(lambda tag: tag.has_attr('div_id')) # could be div id\n",
    "    for i in range (len(lst)):\n",
    "        #price\n",
    "        if lst[i].find_all('span', {'class':'price'})==[]:\n",
    "            price.append('')\n",
    "        \n",
    "        else:\n",
    "            price.append(lst[i].find_all('span', {'class':'price'})[0].string)\n",
    "            \n",
    "        #where\n",
    "        length = len(lst[i].find_all('h3', {'class': 'detils-title'}))#details-titleLink jsCardLinkGA\n",
    "        if(lst[i].find_all('h3', {'class': 'detils-titleLink '})[0].find_all('a', href = True)==[]): #details-titleLink jsCardLinkGA\n",
    "            if(length == 1):\n",
    "                where.apprend('')\n",
    "            else:\n",
    "                if(lst[i].find_all('h3', {'class': 'detils-titleLink'})[1].find_all('a', href = True)==[]): #details-titleLink jsCardLinkGA\n",
    "                    where.append('')\n",
    "                else:\n",
    "                    where.append(lst[i].find_all('h3', {'class': 'detils-titleLink '})[1].find_all('a', href = True)[0].string)#details-titleLink jsCardLinkGA\n",
    "        else:\n",
    "            where.append(lst[i].find_all('h3', {'class': 'detils-titleLink '})[0].find_all('a', href = True)[0].string)#details-titleLink jsCardLinkGA\n",
    "        \n",
    "        \n",
    "        #bedroom\n",
    "        if(lst[i].find_all('span',{'class':'first_detail_cell'})==[]):# <li\n",
    "            bed.append('')\n",
    "            \n",
    "        else:\n",
    "            bed.append(lst[i].find_all('span',{'class':'first_detail_cell'})[0].string)#li\n",
    "        \n",
    "        #bathroom\n",
    "        if(lst[i].find_all('span',{'class':'detail_cell'})==[]):# li\n",
    "            bath.append('')\n",
    "            \n",
    "        else:\n",
    "            bath.append(lst[i].find_all('span',{'class':'detail_cell'})[0].string)#li\n",
    "            \n",
    "        #size\n",
    "        if(lst[i].find_all('span',{'class':'last_detail_cell'})==[]):# <li\n",
    "            size.append('')\n",
    "            \n",
    "        else:\n",
    "            size.append(lst[i].find_all('span',{'class':'last_detail_cell'})[0].string)#li\n",
    "            \n",
    "        #monthly payment\n",
    "        if(lst[i].find_all('a',{'class':'EstimateCalculator EstimateCalculator--searchPage jsEstimatedPayment'})==[]):\n",
    "            monthly.append('')\n",
    "            \n",
    "        else:\n",
    "            monthly.append(lst[i].find_all('a',{'class':'EstimateCalculator EstimateCalculator--searchPage jsEstimatedPayment'})[0].string)\n",
    "            \n",
    "        #street\n",
    "        #street.append(lst[i].find_all('a',{'class':'detils-titleLink jsCardLinkGA'})[0].a.string)\n",
    "        \n",
    "        #kind\n",
    "        kind.append(lst[i].find_all('li',{'class':'details_info'})[0].li.string)\n",
    "        \n",
    "        \n",
    "        \n",
    "        \n",
    "    "
   ]
  },
  {
   "cell_type": "code",
   "execution_count": null,
   "metadata": {},
   "outputs": [],
   "source": []
  }
 ],
 "metadata": {
  "kernelspec": {
   "display_name": "Python 3",
   "language": "python",
   "name": "python3"
  },
  "language_info": {
   "codemirror_mode": {
    "name": "ipython",
    "version": 3
   },
   "file_extension": ".py",
   "mimetype": "text/x-python",
   "name": "python",
   "nbconvert_exporter": "python",
   "pygments_lexer": "ipython3",
   "version": "3.7.4"
  }
 },
 "nbformat": 4,
 "nbformat_minor": 2
}
